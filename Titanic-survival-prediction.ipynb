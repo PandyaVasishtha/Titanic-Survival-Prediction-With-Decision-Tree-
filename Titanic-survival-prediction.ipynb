{
  "cells": [
    {
      "cell_type": "markdown",
      "metadata": {
        "id": "Cez_pORku-J_"
      },
      "source": [
        "# Required modules"
      ]
    },
    {
      "cell_type": "code",
      "execution_count": 2,
      "metadata": {
        "id": "KYME94nPvC3J"
      },
      "outputs": [],
      "source": [
        "import warnings\n",
        "\n",
        "import numpy as np\n",
        "import pandas as pd\n",
        "\n",
        "import matplotlib.pyplot as plt\n",
        "import seaborn as sns\n",
        "\n",
        "from sklearn.model_selection import train_test_split\n",
        "from collections import Counter"
      ]
    },
    {
      "cell_type": "code",
      "execution_count": 3,
      "metadata": {
        "id": "art4SrOjvI73"
      },
      "outputs": [],
      "source": [
        "#set theme\n",
        "sns.set_style(\"darkgrid\")"
      ]
    },
    {
      "cell_type": "code",
      "execution_count": 4,
      "metadata": {
        "id": "T6pf-tgbvM-L"
      },
      "outputs": [],
      "source": [
        "#ignore warnings\n",
        "warnings.filterwarnings('ignore')"
      ]
    },
    {
      "cell_type": "markdown",
      "metadata": {
        "id": "--RQ67iovTJl"
      },
      "source": [
        "#Question 1"
      ]
    },
    {
      "cell_type": "markdown",
      "metadata": {
        "id": "qu3sbrNXIcsV"
      },
      "source": [
        "## Task-1"
      ]
    },
    {
      "cell_type": "code",
      "execution_count": 5,
      "metadata": {
        "id": "sOreSc10vosr"
      },
      "outputs": [],
      "source": [
        "#import data\n",
        "dataset = pd.read_csv('https://raw.githubusercontent.com/datasciencedojo/datasets/master/titanic.csv')"
      ]
    },
    {
      "cell_type": "markdown",
      "metadata": {
        "id": "-lW23pcQv9uE"
      },
      "source": [
        "#### Performing initial data visualisation"
      ]
    },
    {
      "cell_type": "code",
      "execution_count": 6,
      "metadata": {
        "colab": {
          "base_uri": "https://localhost:8080/",
          "height": 362
        },
        "id": "LqJim9FUwG80",
        "outputId": "76bd12fc-4f53-44ea-a022-9ede9edd578a"
      },
      "outputs": [
        {
          "data": {
            "text/html": [
              "<div>\n",
              "<style scoped>\n",
              "    .dataframe tbody tr th:only-of-type {\n",
              "        vertical-align: middle;\n",
              "    }\n",
              "\n",
              "    .dataframe tbody tr th {\n",
              "        vertical-align: top;\n",
              "    }\n",
              "\n",
              "    .dataframe thead th {\n",
              "        text-align: right;\n",
              "    }\n",
              "</style>\n",
              "<table border=\"1\" class=\"dataframe\">\n",
              "  <thead>\n",
              "    <tr style=\"text-align: right;\">\n",
              "      <th></th>\n",
              "      <th>PassengerId</th>\n",
              "      <th>Survived</th>\n",
              "      <th>Pclass</th>\n",
              "      <th>Name</th>\n",
              "      <th>Sex</th>\n",
              "      <th>Age</th>\n",
              "      <th>SibSp</th>\n",
              "      <th>Parch</th>\n",
              "      <th>Ticket</th>\n",
              "      <th>Fare</th>\n",
              "      <th>Cabin</th>\n",
              "      <th>Embarked</th>\n",
              "    </tr>\n",
              "  </thead>\n",
              "  <tbody>\n",
              "    <tr>\n",
              "      <th>0</th>\n",
              "      <td>1</td>\n",
              "      <td>0</td>\n",
              "      <td>3</td>\n",
              "      <td>Braund, Mr. Owen Harris</td>\n",
              "      <td>male</td>\n",
              "      <td>22.0</td>\n",
              "      <td>1</td>\n",
              "      <td>0</td>\n",
              "      <td>A/5 21171</td>\n",
              "      <td>7.2500</td>\n",
              "      <td>NaN</td>\n",
              "      <td>S</td>\n",
              "    </tr>\n",
              "    <tr>\n",
              "      <th>1</th>\n",
              "      <td>2</td>\n",
              "      <td>1</td>\n",
              "      <td>1</td>\n",
              "      <td>Cumings, Mrs. John Bradley (Florence Briggs Th...</td>\n",
              "      <td>female</td>\n",
              "      <td>38.0</td>\n",
              "      <td>1</td>\n",
              "      <td>0</td>\n",
              "      <td>PC 17599</td>\n",
              "      <td>71.2833</td>\n",
              "      <td>C85</td>\n",
              "      <td>C</td>\n",
              "    </tr>\n",
              "    <tr>\n",
              "      <th>2</th>\n",
              "      <td>3</td>\n",
              "      <td>1</td>\n",
              "      <td>3</td>\n",
              "      <td>Heikkinen, Miss. Laina</td>\n",
              "      <td>female</td>\n",
              "      <td>26.0</td>\n",
              "      <td>0</td>\n",
              "      <td>0</td>\n",
              "      <td>STON/O2. 3101282</td>\n",
              "      <td>7.9250</td>\n",
              "      <td>NaN</td>\n",
              "      <td>S</td>\n",
              "    </tr>\n",
              "    <tr>\n",
              "      <th>3</th>\n",
              "      <td>4</td>\n",
              "      <td>1</td>\n",
              "      <td>1</td>\n",
              "      <td>Futrelle, Mrs. Jacques Heath (Lily May Peel)</td>\n",
              "      <td>female</td>\n",
              "      <td>35.0</td>\n",
              "      <td>1</td>\n",
              "      <td>0</td>\n",
              "      <td>113803</td>\n",
              "      <td>53.1000</td>\n",
              "      <td>C123</td>\n",
              "      <td>S</td>\n",
              "    </tr>\n",
              "    <tr>\n",
              "      <th>4</th>\n",
              "      <td>5</td>\n",
              "      <td>0</td>\n",
              "      <td>3</td>\n",
              "      <td>Allen, Mr. William Henry</td>\n",
              "      <td>male</td>\n",
              "      <td>35.0</td>\n",
              "      <td>0</td>\n",
              "      <td>0</td>\n",
              "      <td>373450</td>\n",
              "      <td>8.0500</td>\n",
              "      <td>NaN</td>\n",
              "      <td>S</td>\n",
              "    </tr>\n",
              "  </tbody>\n",
              "</table>\n",
              "</div>"
            ],
            "text/plain": [
              "   PassengerId  Survived  Pclass  \\\n",
              "0            1         0       3   \n",
              "1            2         1       1   \n",
              "2            3         1       3   \n",
              "3            4         1       1   \n",
              "4            5         0       3   \n",
              "\n",
              "                                                Name     Sex   Age  SibSp  \\\n",
              "0                            Braund, Mr. Owen Harris    male  22.0      1   \n",
              "1  Cumings, Mrs. John Bradley (Florence Briggs Th...  female  38.0      1   \n",
              "2                             Heikkinen, Miss. Laina  female  26.0      0   \n",
              "3       Futrelle, Mrs. Jacques Heath (Lily May Peel)  female  35.0      1   \n",
              "4                           Allen, Mr. William Henry    male  35.0      0   \n",
              "\n",
              "   Parch            Ticket     Fare Cabin Embarked  \n",
              "0      0         A/5 21171   7.2500   NaN        S  \n",
              "1      0          PC 17599  71.2833   C85        C  \n",
              "2      0  STON/O2. 3101282   7.9250   NaN        S  \n",
              "3      0            113803  53.1000  C123        S  \n",
              "4      0            373450   8.0500   NaN        S  "
            ]
          },
          "execution_count": 6,
          "metadata": {},
          "output_type": "execute_result"
        }
      ],
      "source": [
        "#overall lookout of the data\n",
        "dataset.head()"
      ]
    },
    {
      "cell_type": "code",
      "execution_count": 7,
      "metadata": {
        "colab": {
          "base_uri": "https://localhost:8080/"
        },
        "id": "hDgQdfezxAhB",
        "outputId": "1b8f4e1e-9da1-4924-e16c-9d8cf415c284"
      },
      "outputs": [
        {
          "name": "stdout",
          "output_type": "stream",
          "text": [
            "<class 'pandas.core.frame.DataFrame'>\n",
            "RangeIndex: 891 entries, 0 to 890\n",
            "Data columns (total 12 columns):\n",
            " #   Column       Non-Null Count  Dtype  \n",
            "---  ------       --------------  -----  \n",
            " 0   PassengerId  891 non-null    int64  \n",
            " 1   Survived     891 non-null    int64  \n",
            " 2   Pclass       891 non-null    int64  \n",
            " 3   Name         891 non-null    object \n",
            " 4   Sex          891 non-null    object \n",
            " 5   Age          714 non-null    float64\n",
            " 6   SibSp        891 non-null    int64  \n",
            " 7   Parch        891 non-null    int64  \n",
            " 8   Ticket       891 non-null    object \n",
            " 9   Fare         891 non-null    float64\n",
            " 10  Cabin        204 non-null    object \n",
            " 11  Embarked     889 non-null    object \n",
            "dtypes: float64(2), int64(5), object(5)\n",
            "memory usage: 83.7+ KB\n",
            "None\n"
          ]
        }
      ],
      "source": [
        "#information about the dataset\n",
        "print(dataset.info())"
      ]
    },
    {
      "cell_type": "code",
      "execution_count": 8,
      "metadata": {
        "colab": {
          "base_uri": "https://localhost:8080/"
        },
        "id": "erVl8TNCxSZ0",
        "outputId": "b2568b8e-7a02-4d49-b57a-f81ca5caa8fe"
      },
      "outputs": [
        {
          "name": "stdout",
          "output_type": "stream",
          "text": [
            "       PassengerId    Survived      Pclass         Age       SibSp  \\\n",
            "count   891.000000  891.000000  891.000000  714.000000  891.000000   \n",
            "mean    446.000000    0.383838    2.308642   29.699118    0.523008   \n",
            "std     257.353842    0.486592    0.836071   14.526497    1.102743   \n",
            "min       1.000000    0.000000    1.000000    0.420000    0.000000   \n",
            "25%     223.500000    0.000000    2.000000   20.125000    0.000000   \n",
            "50%     446.000000    0.000000    3.000000   28.000000    0.000000   \n",
            "75%     668.500000    1.000000    3.000000   38.000000    1.000000   \n",
            "max     891.000000    1.000000    3.000000   80.000000    8.000000   \n",
            "\n",
            "            Parch        Fare  \n",
            "count  891.000000  891.000000  \n",
            "mean     0.381594   32.204208  \n",
            "std      0.806057   49.693429  \n",
            "min      0.000000    0.000000  \n",
            "25%      0.000000    7.910400  \n",
            "50%      0.000000   14.454200  \n",
            "75%      0.000000   31.000000  \n",
            "max      6.000000  512.329200  \n"
          ]
        }
      ],
      "source": [
        "#description of the dataset\n",
        "print(dataset.describe())"
      ]
    },
    {
      "cell_type": "markdown",
      "metadata": {
        "id": "jUjE3VoYxdp6"
      },
      "source": [
        "#### Data Preprocessing"
      ]
    },
    {
      "cell_type": "markdown",
      "metadata": {
        "id": "MCfOh0mYxuAS"
      },
      "source": [
        "**Missing values**"
      ]
    },
    {
      "cell_type": "code",
      "execution_count": 9,
      "metadata": {
        "colab": {
          "base_uri": "https://localhost:8080/"
        },
        "id": "mfHgOwlNxsEj",
        "outputId": "8dedba83-0119-486b-bd7d-03246778f52e"
      },
      "outputs": [
        {
          "name": "stdout",
          "output_type": "stream",
          "text": [
            "Percentage of missing values:\n",
            "PassengerId     0.000000\n",
            "Survived        0.000000\n",
            "Pclass          0.000000\n",
            "Name            0.000000\n",
            "Sex             0.000000\n",
            "Age            19.865320\n",
            "SibSp           0.000000\n",
            "Parch           0.000000\n",
            "Ticket          0.000000\n",
            "Fare            0.000000\n",
            "Cabin          77.104377\n",
            "Embarked        0.224467\n",
            "dtype: float64\n"
          ]
        }
      ],
      "source": [
        "#check for missing values\n",
        "print(\"Percentage of missing values:\")\n",
        "print(((dataset.isna().sum())/dataset.shape[0])*100)"
      ]
    },
    {
      "cell_type": "code",
      "execution_count": 10,
      "metadata": {
        "colab": {
          "base_uri": "https://localhost:8080/"
        },
        "id": "tMRDmf7ZyCU_",
        "outputId": "7d63f618-62a8-4e61-aa80-870c3edfb03a"
      },
      "outputs": [
        {
          "name": "stdout",
          "output_type": "stream",
          "text": [
            "               mean\n",
            "Sex    Pclass      \n",
            "female 1       35.0\n",
            "       2       29.0\n",
            "       3       22.0\n",
            "male   1       41.0\n",
            "       2       31.0\n",
            "       3       27.0\n"
          ]
        }
      ],
      "source": [
        "#age\n",
        "print(round(dataset.groupby(['Sex', 'Pclass'])['Age'].agg(['mean']), 0))#age"
      ]
    },
    {
      "cell_type": "code",
      "execution_count": 12,
      "metadata": {
        "id": "zBPTF9PDyMgQ"
      },
      "outputs": [],
      "source": [
        "#to access missing values\n",
        "dataset[\"Age\"] = dataset[\"Age\"].fillna(-1)\n",
        "\n",
        "#loop to handle missing values\n",
        "for data_index in range(dataset.shape[0]):\n",
        "  if dataset[\"Age\"][data_index] == -1:\n",
        "    if ((dataset[\"Sex\"][data_index] == \"female\") and (dataset[\"Pclass\"][data_index] == 1)):\n",
        "      dataset[\"Age\"][data_index] = 35\n",
        "    elif((dataset[\"Sex\"][data_index] == \"female\") and (dataset[\"Pclass\"][data_index] == 2)):\n",
        "      dataset[\"Age\"][data_index] = 29\n",
        "    elif((dataset[\"Sex\"][data_index] == \"female\") and (dataset[\"Pclass\"][data_index] == 3)):\n",
        "      dataset[\"Age\"][data_index] = 22\n",
        "    elif((dataset[\"Sex\"][data_index] == \"male\") and (dataset[\"Pclass\"][data_index] == 1)):\n",
        "      dataset[\"Age\"][data_index] = 41\n",
        "    elif((dataset[\"Sex\"][data_index] == \"male\") and (dataset[\"Pclass\"][data_index] == 2)):\n",
        "      dataset[\"Age\"][data_index] = 31\n",
        "    elif((dataset[\"Sex\"][data_index] == \"male\") and (dataset[\"Pclass\"][data_index] == 3)):\n",
        "      dataset[\"Age\"][data_index] = 27"
      ]
    },
    {
      "cell_type": "code",
      "execution_count": 13,
      "metadata": {
        "colab": {
          "base_uri": "https://localhost:8080/"
        },
        "id": "4x56YTWmyyGR",
        "outputId": "be594bb3-de71-4982-87d4-6d6c21f77c8a"
      },
      "outputs": [
        {
          "name": "stdout",
          "output_type": "stream",
          "text": [
            "Percentage of missing values in feature 'Age':  0.0%\n"
          ]
        }
      ],
      "source": [
        "#check missing values\n",
        "print(\"Percentage of missing values in feature 'Age': \", str((dataset[\"Age\"].isna().sum())/dataset.shape[0])+\"%\")"
      ]
    },
    {
      "cell_type": "code",
      "execution_count": 14,
      "metadata": {
        "colab": {
          "base_uri": "https://localhost:8080/"
        },
        "id": "8zxPxZzdy35L",
        "outputId": "b04047bc-95ad-4f4a-fdf3-2fd878096fe9"
      },
      "outputs": [
        {
          "data": {
            "text/plain": [
              "0    22.0\n",
              "1    38.0\n",
              "2    26.0\n",
              "3    35.0\n",
              "4    35.0\n",
              "5    27.0\n",
              "6    54.0\n",
              "7     2.0\n",
              "8    27.0\n",
              "9    14.0\n",
              "Name: Age, dtype: float64"
            ]
          },
          "execution_count": 14,
          "metadata": {},
          "output_type": "execute_result"
        }
      ],
      "source": [
        "#view\n",
        "dataset[\"Age\"][0:10]"
      ]
    },
    {
      "cell_type": "code",
      "execution_count": 15,
      "metadata": {
        "id": "qPagLuZ4y8_Z"
      },
      "outputs": [],
      "source": [
        "#cabin\n",
        "dataset = dataset.drop(columns = [\"Cabin\"])"
      ]
    },
    {
      "cell_type": "code",
      "execution_count": 16,
      "metadata": {
        "colab": {
          "base_uri": "https://localhost:8080/"
        },
        "id": "u4t7ikYwzDrh",
        "outputId": "099e99e0-af3d-46ac-d240-402539fb2742"
      },
      "outputs": [
        {
          "data": {
            "text/plain": [
              "Index(['PassengerId', 'Survived', 'Pclass', 'Name', 'Sex', 'Age', 'SibSp',\n",
              "       'Parch', 'Ticket', 'Fare', 'Embarked'],\n",
              "      dtype='object')"
            ]
          },
          "execution_count": 16,
          "metadata": {},
          "output_type": "execute_result"
        }
      ],
      "source": [
        "#view\n",
        "dataset.columns"
      ]
    },
    {
      "cell_type": "code",
      "execution_count": 17,
      "metadata": {
        "id": "HPBfs2LzzHbo"
      },
      "outputs": [],
      "source": [
        "#embarked\n",
        "#[NOTE] Considering only feature 'Embarked' is left with missing values, we can simplu use '.dropna'\n",
        "dataset.dropna(inplace = True)"
      ]
    },
    {
      "cell_type": "code",
      "execution_count": 18,
      "metadata": {
        "colab": {
          "base_uri": "https://localhost:8080/"
        },
        "id": "Tz7zUEgnzNQr",
        "outputId": "7b6748f7-c771-414c-b9e5-1a4843391fdf"
      },
      "outputs": [
        {
          "name": "stdout",
          "output_type": "stream",
          "text": [
            "Percentage of missing values in feature 'Embarked':  0.0%\n"
          ]
        }
      ],
      "source": [
        "#check missing values\n",
        "print(\"Percentage of missing values in feature 'Embarked': \", str((dataset[\"Embarked\"].isna().sum())/dataset.shape[0])+\"%\")"
      ]
    },
    {
      "cell_type": "code",
      "execution_count": 19,
      "metadata": {
        "colab": {
          "base_uri": "https://localhost:8080/"
        },
        "id": "EsY1a6_gzR3d",
        "outputId": "971ede20-6679-484e-d9a3-0e69ae74b69d"
      },
      "outputs": [
        {
          "data": {
            "text/plain": [
              "0    S\n",
              "1    C\n",
              "2    S\n",
              "3    S\n",
              "4    S\n",
              "5    Q\n",
              "6    S\n",
              "7    S\n",
              "8    S\n",
              "9    C\n",
              "Name: Embarked, dtype: object"
            ]
          },
          "execution_count": 19,
          "metadata": {},
          "output_type": "execute_result"
        }
      ],
      "source": [
        "#view\n",
        "dataset[\"Embarked\"][0:10]"
      ]
    },
    {
      "cell_type": "code",
      "execution_count": 20,
      "metadata": {
        "colab": {
          "base_uri": "https://localhost:8080/"
        },
        "id": "OewiooRfzYEC",
        "outputId": "508d640b-2b4c-4ed0-8b79-a5976f5e5abd"
      },
      "outputs": [
        {
          "data": {
            "text/plain": [
              "PassengerId    0\n",
              "Survived       0\n",
              "Pclass         0\n",
              "Name           0\n",
              "Sex            0\n",
              "Age            0\n",
              "SibSp          0\n",
              "Parch          0\n",
              "Ticket         0\n",
              "Fare           0\n",
              "Embarked       0\n",
              "dtype: int64"
            ]
          },
          "execution_count": 20,
          "metadata": {},
          "output_type": "execute_result"
        }
      ],
      "source": [
        "#check if all missing data has been dropped\n",
        "dataset.isna().sum()"
      ]
    },
    {
      "cell_type": "markdown",
      "metadata": {
        "id": "qyCuT2ZdzjQs"
      },
      "source": [
        "#### Dropping trivial features"
      ]
    },
    {
      "cell_type": "code",
      "execution_count": 21,
      "metadata": {
        "colab": {
          "base_uri": "https://localhost:8080/"
        },
        "id": "x61N9KaozpNc",
        "outputId": "96272297-f97e-4602-c1b6-8f5da70f8e93"
      },
      "outputs": [
        {
          "name": "stdout",
          "output_type": "stream",
          "text": [
            "Features in titanic dataset:\n",
            " Index(['PassengerId', 'Survived', 'Pclass', 'Name', 'Sex', 'Age', 'SibSp',\n",
            "       'Parch', 'Ticket', 'Fare', 'Embarked'],\n",
            "      dtype='object')\n"
          ]
        }
      ],
      "source": [
        "#all features\n",
        "print(\"Features in titanic dataset:\\n\", dataset.columns)"
      ]
    },
    {
      "cell_type": "code",
      "execution_count": 22,
      "metadata": {
        "id": "6DnbNHiIz4gh"
      },
      "outputs": [],
      "source": [
        "dataset.drop(columns = [\"PassengerId\", \"Name\", \"Ticket\"], inplace = True)"
      ]
    },
    {
      "cell_type": "code",
      "execution_count": 23,
      "metadata": {
        "colab": {
          "base_uri": "https://localhost:8080/"
        },
        "id": "G3eVN1mU0Oxa",
        "outputId": "d8cb8f8e-5efc-485c-e502-a4ce0e1b7fdf"
      },
      "outputs": [
        {
          "name": "stdout",
          "output_type": "stream",
          "text": [
            "Features in titanic dataset:\n",
            " Index(['Survived', 'Pclass', 'Sex', 'Age', 'SibSp', 'Parch', 'Fare',\n",
            "       'Embarked'],\n",
            "      dtype='object')\n"
          ]
        }
      ],
      "source": [
        "#checking\n",
        "print(\"Features in titanic dataset:\\n\", dataset.columns)"
      ]
    },
    {
      "cell_type": "markdown",
      "metadata": {
        "id": "78SBSYUU0S8v"
      },
      "source": [
        "#### Outliers"
      ]
    },
    {
      "cell_type": "code",
      "execution_count": 24,
      "metadata": {
        "colab": {
          "base_uri": "https://localhost:8080/"
        },
        "id": "OrphiJan0g3I",
        "outputId": "f6dd7194-e64a-4607-87c8-fe092450a40a"
      },
      "outputs": [
        {
          "name": "stdout",
          "output_type": "stream",
          "text": [
            "<class 'pandas.core.frame.DataFrame'>\n",
            "Index: 889 entries, 0 to 890\n",
            "Data columns (total 8 columns):\n",
            " #   Column    Non-Null Count  Dtype  \n",
            "---  ------    --------------  -----  \n",
            " 0   Survived  889 non-null    int64  \n",
            " 1   Pclass    889 non-null    int64  \n",
            " 2   Sex       889 non-null    object \n",
            " 3   Age       889 non-null    float64\n",
            " 4   SibSp     889 non-null    int64  \n",
            " 5   Parch     889 non-null    int64  \n",
            " 6   Fare      889 non-null    float64\n",
            " 7   Embarked  889 non-null    object \n",
            "dtypes: float64(2), int64(4), object(2)\n",
            "memory usage: 62.5+ KB\n"
          ]
        }
      ],
      "source": [
        "#check for continuos features\n",
        "dataset.info()"
      ]
    },
    {
      "cell_type": "code",
      "execution_count": 25,
      "metadata": {
        "colab": {
          "base_uri": "https://localhost:8080/",
          "height": 639
        },
        "id": "XWK7y2Va0wMM",
        "outputId": "0da71786-d25f-4f80-b8fa-bd2c0a703cb6"
      },
      "outputs": [
        {
          "data": {
            "text/plain": [
              "<Axes: xlabel='Survived', ylabel='Fare'>"
            ]
          },
          "execution_count": 25,
          "metadata": {},
          "output_type": "execute_result"
        },
        {
          "data": {
            "image/png": "[encoded data removed]",
            "text/plain": [
              "<Figure size 1250x750 with 3 Axes>"
            ]
          },
          "metadata": {},
          "output_type": "display_data"
        }
      ],
      "source": [
        "#check for outliers\n",
        "figure, axes = plt.subplots(2, 2, figsize = (12.5, 7.5))\n",
        "figure.suptitle(\"Outliers in Numerical Features\")\n",
        "figure.delaxes(axes[1][1])\n",
        "\n",
        "sns.boxplot(ax = axes[0, 0], data = dataset, x = \"Survived\", y = \"Pclass\", palette = \"bwr\")\n",
        "sns.boxplot(ax = axes[0, 1], data = dataset, x = \"Survived\", y = \"Age\", palette = \"bwr\")\n",
        "sns.boxplot(ax = axes[1, 0], data = dataset, x = \"Survived\", y = \"Fare\", palette = \"bwr\")"
      ]
    },
    {
      "cell_type": "markdown",
      "metadata": {
        "id": "ftHWV5Dc07Wb"
      },
      "source": [
        "#### Categorical encoding\n",
        "\n"
      ]
    },
    {
      "cell_type": "code",
      "execution_count": 26,
      "metadata": {
        "colab": {
          "base_uri": "https://localhost:8080/"
        },
        "id": "LO4rbs961Ywk",
        "outputId": "24c18014-a8d2-4a79-c5d9-60f8df6948d6"
      },
      "outputs": [
        {
          "name": "stdout",
          "output_type": "stream",
          "text": [
            "<class 'pandas.core.frame.DataFrame'>\n",
            "Index: 889 entries, 0 to 890\n",
            "Data columns (total 8 columns):\n",
            " #   Column    Non-Null Count  Dtype  \n",
            "---  ------    --------------  -----  \n",
            " 0   Survived  889 non-null    int64  \n",
            " 1   Pclass    889 non-null    int64  \n",
            " 2   Sex       889 non-null    object \n",
            " 3   Age       889 non-null    float64\n",
            " 4   SibSp     889 non-null    int64  \n",
            " 5   Parch     889 non-null    int64  \n",
            " 6   Fare      889 non-null    float64\n",
            " 7   Embarked  889 non-null    object \n",
            "dtypes: float64(2), int64(4), object(2)\n",
            "memory usage: 62.5+ KB\n"
          ]
        }
      ],
      "source": [
        "#check categorical columns\n",
        "dataset.info()"
      ]
    },
    {
      "cell_type": "code",
      "execution_count": 27,
      "metadata": {
        "colab": {
          "base_uri": "https://localhost:8080/"
        },
        "id": "3OVWIHw91fIm",
        "outputId": "c58a49bb-14a0-4988-b58d-9b120aa040dd"
      },
      "outputs": [
        {
          "name": "stdout",
          "output_type": "stream",
          "text": [
            "Discrete values:\n",
            " [3 1 2]\n"
          ]
        }
      ],
      "source": [
        "#Pclass\n",
        "print(\"Discrete values:\\n\", dataset[\"Pclass\"].unique())"
      ]
    },
    {
      "cell_type": "code",
      "execution_count": 28,
      "metadata": {
        "colab": {
          "base_uri": "https://localhost:8080/"
        },
        "id": "NRqLCPBP1jCH",
        "outputId": "fc1c6382-2075-423c-edc6-1d1108c015f5"
      },
      "outputs": [
        {
          "name": "stdout",
          "output_type": "stream",
          "text": [
            "Column 'Sex' before encoding:\n",
            "0      male\n",
            "1    female\n",
            "2    female\n",
            "3    female\n",
            "4      male\n",
            "Name: Sex, dtype: object\n",
            "Column 'Sex' after encoding:\n",
            "0    1\n",
            "1    0\n",
            "2    0\n",
            "3    0\n",
            "4    1\n",
            "Name: Sex, dtype: int64\n"
          ]
        }
      ],
      "source": [
        "#sex\n",
        "print(\"Column 'Sex' before encoding:\")\n",
        "print(dataset[\"Sex\"][0:5])\n",
        "\n",
        "dataset[\"Sex\"].replace(\"female\", 0, inplace = True)\n",
        "dataset[\"Sex\"].replace(\"male\", 1, inplace = True)\n",
        "\n",
        "print(\"Column 'Sex' after encoding:\")\n",
        "print(dataset[\"Sex\"][0:5])"
      ]
    },
    {
      "cell_type": "code",
      "execution_count": 29,
      "metadata": {
        "colab": {
          "base_uri": "https://localhost:8080/"
        },
        "id": "w6GKw3XP1pxz",
        "outputId": "18dbff0d-713a-4ec9-d0f0-00a12090e4c5"
      },
      "outputs": [
        {
          "name": "stdout",
          "output_type": "stream",
          "text": [
            "Unique values:\n",
            " ['S' 'C' 'Q']\n"
          ]
        }
      ],
      "source": [
        "#Embarked\n",
        "print(\"Unique values:\\n\", dataset[\"Embarked\"].unique())"
      ]
    },
    {
      "cell_type": "code",
      "execution_count": 30,
      "metadata": {
        "id": "myJ2kUtO1wm7"
      },
      "outputs": [],
      "source": [
        "#function to encode 'Embarked'\n",
        "def encode_embarked(column):\n",
        "\n",
        "  for data in column:\n",
        "    if data == 'S':\n",
        "      column[column.index(data)] = 0\n",
        "    elif data == 'C':\n",
        "      column[column.index(data)] = 1\n",
        "    else:\n",
        "      column[column.index(data)] = 2\n",
        "\n",
        "  return column"
      ]
    },
    {
      "cell_type": "code",
      "execution_count": 31,
      "metadata": {
        "colab": {
          "base_uri": "https://localhost:8080/"
        },
        "id": "s3qdBodX10HJ",
        "outputId": "49080de9-7da8-49ff-fb2d-77dfdc1fa042"
      },
      "outputs": [
        {
          "name": "stdout",
          "output_type": "stream",
          "text": [
            "Column 'Embarked' before encoding:\n",
            "0    S\n",
            "1    C\n",
            "2    S\n",
            "3    S\n",
            "4    S\n",
            "Name: Embarked, dtype: object\n",
            "Column 'Embarked' after encoding:\n",
            "0    0\n",
            "1    1\n",
            "2    0\n",
            "3    0\n",
            "4    0\n",
            "Name: Embarked, dtype: int64\n"
          ]
        }
      ],
      "source": [
        "#implement function\n",
        "print(\"Column 'Embarked' before encoding:\")\n",
        "print(dataset[\"Embarked\"][0:5])\n",
        "\n",
        "dataset[\"Embarked\"] = encode_embarked(list(dataset[\"Embarked\"]))\n",
        "\n",
        "print(\"Column 'Embarked' after encoding:\")\n",
        "print(dataset[\"Embarked\"][0:5])"
      ]
    },
    {
      "cell_type": "markdown",
      "metadata": {
        "id": "0EcIEWmr17WJ"
      },
      "source": [
        "#### Visualizing feature target-dependence"
      ]
    },
    {
      "cell_type": "code",
      "execution_count": 32,
      "metadata": {
        "colab": {
          "base_uri": "https://localhost:8080/"
        },
        "id": "OYyQn44f2GKo",
        "outputId": "f69a843b-1df8-4c69-a224-308a34775521"
      },
      "outputs": [
        {
          "data": {
            "text/plain": [
              "Index(['Survived', 'Pclass', 'Sex', 'Age', 'SibSp', 'Parch', 'Fare',\n",
              "       'Embarked'],\n",
              "      dtype='object')"
            ]
          },
          "execution_count": 32,
          "metadata": {},
          "output_type": "execute_result"
        }
      ],
      "source": [
        "dataset.columns"
      ]
    },
    {
      "cell_type": "code",
      "execution_count": 33,
      "metadata": {
        "colab": {
          "base_uri": "https://localhost:8080/",
          "height": 608
        },
        "id": "EItBNOSM2JHd",
        "outputId": "0e316255-5e4e-42f0-c8b5-42635520d494"
      },
      "outputs": [
        {
          "data": {
            "text/plain": [
              "<Axes: xlabel='Survived', ylabel='Parch'>"
            ]
          },
          "execution_count": 33,
          "metadata": {},
          "output_type": "execute_result"
        },
        {
          "data": {
            "image/png": "[encoded data removed]",
            "text/plain": [
              "<Figure size 1750x1000 with 9 Axes>"
            ]
          },
          "metadata": {},
          "output_type": "display_data"
        }
      ],
      "source": [
        "figure, axes = plt.subplots(3, 3, figsize = (17.5, 10))\n",
        "#figure.delaxes(axes[1][2])\n",
        "figure.suptitle(\"Feature Target Dependence\")\n",
        "\n",
        "#island\n",
        "sns.stripplot(ax = axes[0, 0], data = dataset, x = \"Survived\", y = \"Pclass\", palette = \"bwr\")\n",
        "sns.stripplot(ax = axes[0, 1], data = dataset, x = \"Survived\", y = \"Sex\", palette = \"bwr\")\n",
        "sns.stripplot(ax = axes[0, 2], data = dataset, x = \"Survived\", y = \"Age\", palette = \"bwr\")\n",
        "sns.stripplot(ax = axes[1, 0], data = dataset, x = \"Survived\", y = \"Fare\", palette = \"bwr\")\n",
        "sns.stripplot(ax = axes[1, 1], data = dataset, x = \"Survived\", y = \"Embarked\", palette = \"bwr\")\n",
        "sns.stripplot(ax = axes[1, 2], data = dataset, x = \"Survived\", y = \"SibSp\", palette = \"bwr\")\n",
        "sns.stripplot(ax = axes[2, 0], data = dataset, x = \"Survived\", y = \"Parch\", palette = \"bwr\")"
      ]
    },
    {
      "cell_type": "markdown",
      "metadata": {
        "id": "A-aTT5u2Ioq0"
      },
      "source": [
        "#### Splitting the data"
      ]
    },
    {
      "cell_type": "code",
      "execution_count": 34,
      "metadata": {
        "colab": {
          "base_uri": "https://localhost:8080/"
        },
        "id": "C4r1rxNsI4u7",
        "outputId": "112bdd2c-e226-45aa-e96e-c5cdb8fcc48e"
      },
      "outputs": [
        {
          "name": "stdout",
          "output_type": "stream",
          "text": [
            "Size of dataset X : 889\n",
            "Size of target dataset Y : 889\n",
            "Number of features of dataset X : 7\n"
          ]
        }
      ],
      "source": [
        "#feature and target split\n",
        "X = dataset.drop(columns = [\"Survived\"])\n",
        "y = dataset[\"Survived\"]\n",
        "print(\"Size of dataset X : \"+str(X.shape[0]))\n",
        "print(\"Size of target dataset Y : \"+str(y.shape[0]))\n",
        "print(\"Number of features of dataset X : \"+str(X.shape[1]))"
      ]
    },
    {
      "cell_type": "markdown",
      "metadata": {
        "id": "93Ddjxcy5Mn4"
      },
      "source": [
        "**Splitting into train , validation and test data using split 70-20-10**"
      ]
    },
    {
      "cell_type": "code",
      "execution_count": 35,
      "metadata": {
        "id": "hpAFUn_1OeLD"
      },
      "outputs": [],
      "source": [
        "x, x_val, y, y_val = train_test_split(X,y,test_size=0.2,train_size=0.8)\n",
        "x_train, x_test, y_train, y_test = train_test_split(x,y,test_size = 0.125,train_size=0.875)"
      ]
    },
    {
      "cell_type": "code",
      "execution_count": 36,
      "metadata": {
        "colab": {
          "base_uri": "https://localhost:8080/"
        },
        "id": "PozOLOCMWHwU",
        "outputId": "efac318b-ddc1-4682-9523-76e913dbd7f9"
      },
      "outputs": [
        {
          "name": "stdout",
          "output_type": "stream",
          "text": [
            "Shape of training dataset x : (622,7)\n",
            "Shape of training dataset y : (622,)\n",
            "Shape of test dataset x : (89,7)\n",
            "Shape of test dataset y : (89,)\n",
            "Shape of validation dataset x : (178,7)\n",
            "Shape of validation dataset y : (178,)\n"
          ]
        }
      ],
      "source": [
        "#check shape\n",
        "print(\"Shape of training dataset x : \" +\"(\" +str(x_train.shape[0])+\",\"+str(x_train.shape[1])+\")\")\n",
        "print(\"Shape of training dataset y : \" +\"(\" +str(y_train.shape[0])+\",\"+\")\")\n",
        "print(\"Shape of test dataset x : \" +\"(\" +str(x_test.shape[0])+\",\"+str(x_test.shape[1])+\")\")\n",
        "print(\"Shape of test dataset y : \" +\"(\" +str(y_test.shape[0])+\",\"+\")\")\n",
        "print(\"Shape of validation dataset x : \" +\"(\" +str(x_val.shape[0])+\",\"+str(x_val.shape[1])+\")\")\n",
        "print(\"Shape of validation dataset y : \" +\"(\" +str(y_val.shape[0])+\",\"+\")\")"
      ]
    },
    {
      "cell_type": "markdown",
      "metadata": {
        "id": "qjpM9gO_Xvcq"
      },
      "source": [
        "## Task-2"
      ]
    },
    {
      "cell_type": "markdown",
      "metadata": {
        "id": "ThYzb7AOX4rL"
      },
      "source": [
        "**Implementing entropy function**"
      ]
    },
    {
      "cell_type": "markdown",
      "metadata": {
        "id": "EcRum3XW9HbR"
      },
      "source": [
        "Along with implementing entropy function as cost function we also implement functions that will calculate information gain and to find best split based on split feature and split threshold."
      ]
    },
    {
      "cell_type": "code",
      "execution_count": 37,
      "metadata": {
        "id": "9DIoJBkgX9bA"
      },
      "outputs": [],
      "source": [
        "def entropy(y):\n",
        "    # Count the number of occurences of each class\n",
        "    count_positives = np.sum(y)\n",
        "    count_negatives = len(y) - count_positives\n",
        "\n",
        "    # Calculate the fraction of positives and negatives\n",
        "    p_positive = count_positives / len(y)\n",
        "    p_negative = count_negatives / len(y)\n",
        "\n",
        "    # Avoid log(0)\n",
        "    if p_positive == 0 or p_negative == 0:\n",
        "        entropy = 0\n",
        "    else:\n",
        "        # Formula\n",
        "        entropy = - p_positive * np.log(p_positive) - p_negative * np.log(p_negative)\n",
        "\n",
        "    return entropy\n",
        "\n",
        "#To calculate information gain\n",
        "def info_gain(X, y, feature, threshold):\n",
        "    # Split the data\n",
        "    left_mask = X.iloc[:, feature] <= threshold\n",
        "    right_mask = ~left_mask\n",
        "    left_labels, right_labels = y[left_mask], y[right_mask]\n",
        "\n",
        "    # Calculate the entropy for the subsets\n",
        "    entropy_before_split = entropy(y)\n",
        "    entropy_left = entropy(left_labels)\n",
        "    entropy_right = entropy(right_labels)\n",
        "\n",
        "    # Calculate information gain\n",
        "    p_left = len(left_labels) / len(y)\n",
        "    p_right = len(right_labels) / len(y)\n",
        "    information_gain = entropy_before_split - (p_left * entropy_left + p_right * entropy_right)\n",
        "\n",
        "    return information_gain\n",
        "\n",
        "#To provide best split on a feature using split threshold provided by its output for that feature\n",
        "def best_split(X, y):\n",
        "  n_features = X.shape[1]\n",
        "  best_feature, best_threshold, best_information_gain = None, None, -1\n",
        "\n",
        "  for feature in range(n_features):\n",
        "    thresholds = np.unique(X.iloc[:, feature])\n",
        "    for threshold in thresholds:\n",
        "      information_gain = info_gain(X, y, feature, threshold)\n",
        "\n",
        "      # Update the best split\n",
        "      if information_gain > best_information_gain:\n",
        "        best_feature, best_threshold, best_information_gain = feature, threshold, information_gain\n",
        "\n",
        "  return best_feature, best_threshold\n"
      ]
    },
    {
      "cell_type": "markdown",
      "metadata": {
        "id": "GKtAMFfXg9Nu"
      },
      "source": [
        "## Task-3"
      ]
    },
    {
      "cell_type": "markdown",
      "metadata": {
        "id": "8t4Fctkv-TOw"
      },
      "source": [
        "Number of features"
      ]
    },
    {
      "cell_type": "code",
      "execution_count": 38,
      "metadata": {
        "colab": {
          "base_uri": "https://localhost:8080/"
        },
        "id": "BJlfnTLY1jlr",
        "outputId": "cf02c997-3b68-49d7-ed3f-df5f8cbef30b"
      },
      "outputs": [
        {
          "data": {
            "text/plain": [
              "7"
            ]
          },
          "execution_count": 38,
          "metadata": {},
          "output_type": "execute_result"
        }
      ],
      "source": [
        "n_features=x_train.shape[1]\n",
        "n_features"
      ]
    },
    {
      "cell_type": "markdown",
      "metadata": {
        "id": "ewbSt0SW-jsC"
      },
      "source": [
        "**Implementing contocat function to convert continuous variables to categorical variables**"
      ]
    },
    {
      "cell_type": "code",
      "execution_count": 39,
      "metadata": {
        "id": "UH6QIKT2wc7V"
      },
      "outputs": [],
      "source": [
        "def conTocat(data, target):\n",
        "  categorical_data = data.copy()\n",
        "\n",
        "  for feature in data.columns:\n",
        "        # Find the best split for the feature\n",
        "    best_split_value = best_split(data[[feature]], target)[1]\n",
        "\n",
        "        # Convert continuous data to categorical based on the best split\n",
        "    categorical_data[feature] = (data[feature] > best_split_value).astype(int)\n",
        "\n",
        "  return categorical_data\n",
        "\n",
        "#Converting training and test set variables into categorical variables from continuous variable\n",
        "categorical_data = conTocat(x_train,y_train)\n",
        "categorical_test_data=conTocat(x_test,y_test)\n",
        "\n",
        "#Reindexing data\n",
        "cat_data=categorical_data.reset_index(drop=True)\n",
        "cat_test_data=categorical_test_data.reset_index(drop=True)\n",
        "y_test=y_test.reset_index(drop=True)\n",
        "y_train=y_train.reset_index(drop=True)"
      ]
    },
    {
      "cell_type": "markdown",
      "metadata": {
        "id": "Wbs5e90hDmKn"
      },
      "source": [
        "**X_train with continuous variables**"
      ]
    },
    {
      "cell_type": "code",
      "execution_count": 40,
      "metadata": {
        "colab": {
          "base_uri": "https://localhost:8080/",
          "height": 206
        },
        "id": "RNRI-jpKDqle",
        "outputId": "551079d6-701d-4059-f980-663de45b000b"
      },
      "outputs": [
        {
          "data": {
            "text/html": [
              "<div>\n",
              "<style scoped>\n",
              "    .dataframe tbody tr th:only-of-type {\n",
              "        vertical-align: middle;\n",
              "    }\n",
              "\n",
              "    .dataframe tbody tr th {\n",
              "        vertical-align: top;\n",
              "    }\n",
              "\n",
              "    .dataframe thead th {\n",
              "        text-align: right;\n",
              "    }\n",
              "</style>\n",
              "<table border=\"1\" class=\"dataframe\">\n",
              "  <thead>\n",
              "    <tr style=\"text-align: right;\">\n",
              "      <th></th>\n",
              "      <th>Pclass</th>\n",
              "      <th>Sex</th>\n",
              "      <th>Age</th>\n",
              "      <th>SibSp</th>\n",
              "      <th>Parch</th>\n",
              "      <th>Fare</th>\n",
              "      <th>Embarked</th>\n",
              "    </tr>\n",
              "  </thead>\n",
              "  <tbody>\n",
              "    <tr>\n",
              "      <th>0</th>\n",
              "      <td>3</td>\n",
              "      <td>0</td>\n",
              "      <td>19.0</td>\n",
              "      <td>1</td>\n",
              "      <td>0</td>\n",
              "      <td>7.8542</td>\n",
              "      <td>0</td>\n",
              "    </tr>\n",
              "    <tr>\n",
              "      <th>1</th>\n",
              "      <td>3</td>\n",
              "      <td>1</td>\n",
              "      <td>27.0</td>\n",
              "      <td>0</td>\n",
              "      <td>0</td>\n",
              "      <td>7.2292</td>\n",
              "      <td>1</td>\n",
              "    </tr>\n",
              "    <tr>\n",
              "      <th>2</th>\n",
              "      <td>1</td>\n",
              "      <td>1</td>\n",
              "      <td>25.0</td>\n",
              "      <td>1</td>\n",
              "      <td>0</td>\n",
              "      <td>55.4417</td>\n",
              "      <td>1</td>\n",
              "    </tr>\n",
              "    <tr>\n",
              "      <th>3</th>\n",
              "      <td>2</td>\n",
              "      <td>1</td>\n",
              "      <td>47.0</td>\n",
              "      <td>0</td>\n",
              "      <td>0</td>\n",
              "      <td>15.0000</td>\n",
              "      <td>0</td>\n",
              "    </tr>\n",
              "    <tr>\n",
              "      <th>4</th>\n",
              "      <td>2</td>\n",
              "      <td>1</td>\n",
              "      <td>39.0</td>\n",
              "      <td>0</td>\n",
              "      <td>0</td>\n",
              "      <td>13.0000</td>\n",
              "      <td>0</td>\n",
              "    </tr>\n",
              "  </tbody>\n",
              "</table>\n",
              "</div>"
            ],
            "text/plain": [
              "   Pclass  Sex   Age  SibSp  Parch     Fare  Embarked\n",
              "0       3    0  19.0      1      0   7.8542         0\n",
              "1       3    1  27.0      0      0   7.2292         1\n",
              "2       1    1  25.0      1      0  55.4417         1\n",
              "3       2    1  47.0      0      0  15.0000         0\n",
              "4       2    1  39.0      0      0  13.0000         0"
            ]
          },
          "execution_count": 40,
          "metadata": {},
          "output_type": "execute_result"
        }
      ],
      "source": [
        "x_train0=x_train.reset_index(drop=True)\n",
        "x_train0.head()"
      ]
    },
    {
      "cell_type": "markdown",
      "metadata": {
        "id": "abGHStTeDdLH"
      },
      "source": [
        "**X_train after converting into categorical variable**"
      ]
    },
    {
      "cell_type": "code",
      "execution_count": 41,
      "metadata": {
        "colab": {
          "base_uri": "https://localhost:8080/",
          "height": 206
        },
        "id": "wtAE5V_KDOTF",
        "outputId": "eba9d3ee-3651-4a83-a560-3f957a68fb1c"
      },
      "outputs": [
        {
          "data": {
            "text/html": [
              "<div>\n",
              "<style scoped>\n",
              "    .dataframe tbody tr th:only-of-type {\n",
              "        vertical-align: middle;\n",
              "    }\n",
              "\n",
              "    .dataframe tbody tr th {\n",
              "        vertical-align: top;\n",
              "    }\n",
              "\n",
              "    .dataframe thead th {\n",
              "        text-align: right;\n",
              "    }\n",
              "</style>\n",
              "<table border=\"1\" class=\"dataframe\">\n",
              "  <thead>\n",
              "    <tr style=\"text-align: right;\">\n",
              "      <th></th>\n",
              "      <th>Pclass</th>\n",
              "      <th>Sex</th>\n",
              "      <th>Age</th>\n",
              "      <th>SibSp</th>\n",
              "      <th>Parch</th>\n",
              "      <th>Fare</th>\n",
              "      <th>Embarked</th>\n",
              "    </tr>\n",
              "  </thead>\n",
              "  <tbody>\n",
              "    <tr>\n",
              "      <th>0</th>\n",
              "      <td>1</td>\n",
              "      <td>0</td>\n",
              "      <td>1</td>\n",
              "      <td>0</td>\n",
              "      <td>0</td>\n",
              "      <td>0</td>\n",
              "      <td>0</td>\n",
              "    </tr>\n",
              "    <tr>\n",
              "      <th>1</th>\n",
              "      <td>1</td>\n",
              "      <td>1</td>\n",
              "      <td>1</td>\n",
              "      <td>0</td>\n",
              "      <td>0</td>\n",
              "      <td>0</td>\n",
              "      <td>1</td>\n",
              "    </tr>\n",
              "    <tr>\n",
              "      <th>2</th>\n",
              "      <td>0</td>\n",
              "      <td>1</td>\n",
              "      <td>1</td>\n",
              "      <td>0</td>\n",
              "      <td>0</td>\n",
              "      <td>1</td>\n",
              "      <td>1</td>\n",
              "    </tr>\n",
              "    <tr>\n",
              "      <th>3</th>\n",
              "      <td>0</td>\n",
              "      <td>1</td>\n",
              "      <td>1</td>\n",
              "      <td>0</td>\n",
              "      <td>0</td>\n",
              "      <td>0</td>\n",
              "      <td>0</td>\n",
              "    </tr>\n",
              "    <tr>\n",
              "      <th>4</th>\n",
              "      <td>0</td>\n",
              "      <td>1</td>\n",
              "      <td>1</td>\n",
              "      <td>0</td>\n",
              "      <td>0</td>\n",
              "      <td>0</td>\n",
              "      <td>0</td>\n",
              "    </tr>\n",
              "  </tbody>\n",
              "</table>\n",
              "</div>"
            ],
            "text/plain": [
              "   Pclass  Sex  Age  SibSp  Parch  Fare  Embarked\n",
              "0       1    0    1      0      0     0         0\n",
              "1       1    1    1      0      0     0         1\n",
              "2       0    1    1      0      0     1         1\n",
              "3       0    1    1      0      0     0         0\n",
              "4       0    1    1      0      0     0         0"
            ]
          },
          "execution_count": 41,
          "metadata": {},
          "output_type": "execute_result"
        }
      ],
      "source": [
        "cat_data.head()"
      ]
    },
    {
      "cell_type": "markdown",
      "metadata": {
        "id": "uScX-Qy7on8r"
      },
      "source": [
        "## Task-4"
      ]
    },
    {
      "cell_type": "markdown",
      "metadata": {
        "id": "-M9wOFUYEcr3"
      },
      "source": [
        "**Implement make_shift function to split each feature column using best_split function which was implemented earlier**"
      ]
    },
    {
      "cell_type": "code",
      "execution_count": 42,
      "metadata": {
        "id": "sBCkQHwtJuj5"
      },
      "outputs": [],
      "source": [
        "def make_split(data, target, split_feature, split_value):\n",
        "    left_mask = data.iloc[:,split_feature] <= split_value\n",
        "    right_mask = data.iloc[:,split_feature] > split_value\n",
        "\n",
        "    left_data = data[left_mask]\n",
        "    left_target = target[left_mask]\n",
        "\n",
        "    right_data = data[right_mask]\n",
        "    right_target = target[right_mask]\n",
        "\n",
        "    return left_data, left_target, right_data, right_target"
      ]
    },
    {
      "cell_type": "markdown",
      "metadata": {
        "id": "xq11501kEy11"
      },
      "source": [
        "**Implementing and making a decision tree with root node named 'root'**"
      ]
    },
    {
      "cell_type": "code",
      "execution_count": 43,
      "metadata": {
        "id": "9boiTvrejpVZ"
      },
      "outputs": [],
      "source": [
        "class DecisionTreeNode:\n",
        "    def __init__(self, feature=None, value=None, left=None, right=None, depth=0, label=None):\n",
        "        self.feature = feature\n",
        "        self.value = value\n",
        "        self.left = left\n",
        "        self.right = right\n",
        "        self.depth = depth\n",
        "        self.label = label\n",
        "\n",
        "    def is_leaf_node(self):\n",
        "        return self.value is not None\n",
        "\n",
        "def build_tree(data, target, depth=0, max_depth=3):\n",
        "    if len(np.unique(target)) == 1:\n",
        "        return DecisionTreeNode(label=target.iloc[0], depth=depth)\n",
        "\n",
        "    if depth == max_depth:\n",
        "        return DecisionTreeNode(label=target.mode()[0], depth=depth)\n",
        "\n",
        "    # Find the best split\n",
        "    split_feature, split_value = best_split(data, target)\n",
        "\n",
        "    # If no valid split was found, return a leaf\n",
        "    if split_feature is None:\n",
        "        return DecisionTreeNode(label=target.mode()[0], depth=depth)\n",
        "\n",
        "    # Make the split\n",
        "    left_data, left_target, right_data, right_target = make_split(data, target, split_feature, split_value)\n",
        "\n",
        "    # If no split is possible, return a leaf\n",
        "    if len(left_data) == 0 or len(right_data) == 0:\n",
        "        return DecisionTreeNode(label=target.mode()[0], depth=depth)\n",
        "\n",
        "    # Recursively build the left and right subtrees\n",
        "    left_child = build_tree(left_data, left_target, depth + 1, max_depth)\n",
        "    right_child = build_tree(right_data, right_target, depth + 1, max_depth)\n",
        "\n",
        "    return DecisionTreeNode(feature=split_feature, value=split_value, left=left_child, right=right_child, depth=depth)\n",
        "\n",
        "root = build_tree(cat_data,y_train, max_depth=5)"
      ]
    },
    {
      "cell_type": "markdown",
      "metadata": {
        "id": "1TEYRzAzosL9"
      },
      "source": [
        "## Task-5"
      ]
    },
    {
      "cell_type": "markdown",
      "metadata": {
        "id": "HkZisyqaFGnu"
      },
      "source": [
        "**Implementing infer function**"
      ]
    },
    {
      "cell_type": "code",
      "execution_count": 44,
      "metadata": {
        "id": "bn4VB0p5JvNr"
      },
      "outputs": [],
      "source": [
        "def infer(sample, tree):\n",
        "    # Traverse the tree until a leaf node is reached\n",
        "    current_node = tree\n",
        "    while current_node.label is None:\n",
        "        # Check the feature value of the sample against the split value\n",
        "        if sample[current_node.feature] <= current_node.value:\n",
        "            current_node = current_node.left\n",
        "        else:\n",
        "            current_node = current_node.right\n",
        "\n",
        "    return current_node.label"
      ]
    },
    {
      "cell_type": "markdown",
      "metadata": {
        "id": "7SwPPlXEow5q"
      },
      "source": [
        "## Task-6"
      ]
    },
    {
      "cell_type": "markdown",
      "metadata": {
        "id": "ew-uMWA-Flb2"
      },
      "source": [
        "**Implementing prediction function to predict output and is using decision tree for predicting output**"
      ]
    },
    {
      "cell_type": "code",
      "execution_count": 45,
      "metadata": {
        "colab": {
          "base_uri": "https://localhost:8080/"
        },
        "id": "Uu2CAqZIJv-g",
        "outputId": "4a43f993-5130-471e-eb6f-011aa36eab33"
      },
      "outputs": [
        {
          "name": "stdout",
          "output_type": "stream",
          "text": [
            "Predictions for train sample: [0, 0, 0, 0, 0, 1, 0, 0, 0, 0, 0, 0, 1, 1, 0, 0, 1, 1, 1, 0, 0, 0, 0, 0, 1, 1, 0, 0, 1, 1, 0, 0, 1, 0, 0, 0, 0, 0, 0, 1, 0, 0, 0, 0, 1, 0, 0, 1, 0, 0, 0, 1, 0, 1, 0, 1, 0, 0, 0, 0, 0, 0, 0, 0, 0, 1, 0, 0, 1, 1, 0, 0, 1, 0, 0, 1, 1, 0, 0, 0, 0, 1, 0, 0, 0, 0, 0, 0, 1, 0, 0, 0, 0, 1, 0, 0, 0, 0, 0, 1, 0, 0, 1, 1, 1, 0, 0, 1, 0, 1, 1, 0, 1, 0, 0, 0, 0, 0, 1, 1, 0, 0, 1, 1, 0, 0, 0, 0, 0, 0, 0, 0, 0, 1, 0, 0, 1, 1, 0, 0, 0, 0, 0, 0, 1, 0, 0, 0, 0, 0, 1, 0, 0, 0, 1, 0, 0, 0, 0, 0, 0, 0, 0, 0, 0, 0, 0, 0, 0, 1, 0, 1, 0, 0, 0, 0, 1, 0, 0, 1, 0, 0, 0, 1, 0, 1, 0, 0, 1, 1, 0, 0, 1, 1, 0, 0, 0, 1, 0, 0, 1, 0, 0, 1, 0, 0, 0, 1, 0, 1, 0, 1, 0, 0, 1, 1, 0, 0, 0, 0, 0, 0, 1, 0, 0, 1, 0, 1, 1, 1, 0, 0, 0, 0, 0, 0, 0, 1, 1, 1, 0, 0, 1, 0, 0, 0, 0, 1, 0, 0, 0, 0, 0, 0, 0, 0, 0, 0, 0, 0, 0, 0, 0, 0, 0, 0, 1, 0, 0, 0, 0, 0, 0, 0, 0, 1, 1, 1, 0, 1, 1, 0, 0, 0, 0, 1, 0, 0, 0, 0, 0, 0, 0, 0, 0, 0, 0, 0, 0, 0, 0, 0, 1, 0, 0, 0, 0, 1, 0, 0, 0, 1, 1, 1, 0, 0, 0, 0, 0, 0, 0, 0, 0, 0, 0, 0, 1, 0, 0, 0, 1, 0, 0, 0, 0, 0, 0, 1, 0, 0, 0, 0, 0, 0, 0, 0, 0, 0, 0, 1, 0, 0, 0, 0, 0, 1, 0, 0, 0, 0, 1, 1, 0, 0, 1, 0, 0, 1, 1, 1, 0, 0, 0, 0, 0, 0, 0, 0, 0, 1, 0, 0, 0, 1, 0, 0, 1, 0, 0, 0, 0, 1, 0, 0, 0, 0, 1, 0, 0, 0, 1, 1, 0, 0, 0, 0, 0, 0, 1, 0, 0, 1, 0, 1, 1, 0, 0, 0, 0, 1, 0, 0, 1, 0, 1, 1, 0, 1, 0, 0, 0, 0, 0, 0, 0, 1, 0, 0, 1, 0, 0, 1, 1, 0, 0, 0, 0, 0, 0, 0, 0, 0, 1, 0, 0, 0, 1, 0, 0, 0, 0, 1, 0, 0, 0, 1, 0, 1, 0, 0, 1, 0, 0, 1, 0, 0, 0, 0, 0, 0, 0, 0, 0, 0, 0, 0, 0, 0, 0, 1, 0, 1, 1, 1, 0, 0, 1, 1, 1, 0, 0, 1, 0, 0, 0, 0, 1, 0, 0, 0, 1, 0, 0, 0, 1, 0, 1, 0, 1, 1, 0, 0, 1, 0, 1, 0, 0, 1, 0, 0, 0, 0, 1, 0, 0, 0, 1, 1, 0, 1, 0, 1, 0, 1, 0, 1, 0, 0, 0, 1, 0, 0, 0, 0, 0, 0, 0, 0, 0, 0, 1, 0, 0, 1, 1, 0, 0, 0, 0, 0, 0, 0, 1, 0, 0, 0, 0, 1, 1, 0, 1, 0, 0, 0, 0, 1, 0, 0, 0, 0, 1, 1, 0, 1, 0, 1, 0, 1, 0, 0, 1, 1, 0, 1, 0, 0, 0, 0, 0, 0, 0, 0, 1, 1, 0, 0, 0, 0, 0, 1, 1, 0]\n",
            "Predictions for test sample: [0, 0, 0, 0, 0, 0, 1, 1, 0, 0, 0, 1, 0, 1, 0, 1, 0, 1, 1, 0, 1, 0, 0, 0, 1, 0, 0, 0, 0, 1, 1, 0, 0, 0, 0, 1, 0, 0, 0, 0, 0, 1, 0, 1, 0, 1, 0, 1, 1, 0, 0, 0, 1, 0, 0, 1, 0, 0, 0, 0, 0, 0, 0, 0, 1, 0, 0, 0, 0, 0, 0, 0, 1, 0, 1, 0, 1, 0, 1, 1, 1, 0, 0, 1, 1, 0, 0, 1, 0]\n"
          ]
        }
      ],
      "source": [
        "def predict(data0, tree):\n",
        "    predictions = []\n",
        "    for _, sample in data0.iterrows():\n",
        "        predicted_class = infer(sample, tree)\n",
        "        predictions.append(predicted_class)\n",
        "    return predictions\n",
        "\n",
        "#Predictions using prediction function\n",
        "predictions = predict(cat_test_data, root)\n",
        "predictions1= predict(cat_data,root)\n",
        "print(\"Predictions for train sample:\", predictions1)\n",
        "print(\"Predictions for test sample:\", predictions)"
      ]
    },
    {
      "cell_type": "markdown",
      "metadata": {
        "id": "RaU5y5ZlFsTY"
      },
      "source": [
        "To calculate accuracy of prediction"
      ]
    },
    {
      "cell_type": "code",
      "execution_count": 46,
      "metadata": {
        "colab": {
          "base_uri": "https://localhost:8080/"
        },
        "id": "Cdw56kWtSFmN",
        "outputId": "a396dc86-5509-4595-f21f-6c7ae10d9fb4"
      },
      "outputs": [
        {
          "name": "stdout",
          "output_type": "stream",
          "text": [
            "Overall Accuracy of training data: 84.72668810289389 %\n",
            "Overall Accuracy of test data: 67.41573033707866 %\n"
          ]
        }
      ],
      "source": [
        "def accuracy(prediction, actual):\n",
        "    correct = 0\n",
        "    total = len(prediction)\n",
        "\n",
        "    for pred, act in zip(prediction, actual):\n",
        "        if pred == act:\n",
        "            correct += 1\n",
        "\n",
        "    accuracy = (correct / total) * 100\n",
        "    return accuracy\n",
        "\n",
        "\n",
        "acc = accuracy(predictions,y_test)\n",
        "acc1=accuracy(predictions1,y_train)\n",
        "\n",
        "print(\"Overall Accuracy of training data:\", acc1, \"%\")\n",
        "print(\"Overall Accuracy of test data:\", acc, \"%\")"
      ]
    },
    {
      "cell_type": "code",
      "execution_count": 48,
      "metadata": {
        "colab": {
          "base_uri": "https://localhost:8080/"
        },
        "id": "lJyz6bKBKGey",
        "outputId": "46b78920-d6fc-4253-c633-42ff71e89565"
      },
      "outputs": [
        {
          "name": "stdout",
          "output_type": "stream",
          "text": [
            "Classwise accuracy of training sample :\n",
            "For 'Not survived' : 60.28938906752411\n",
            "For 'Survived' : 24.437299035369776\n",
            "Classwise accuracy of test sample :\n",
            "For 'Not survived' : 46.06741573033708\n",
            "For 'Survived' : 21.34831460674157\n"
          ]
        }
      ],
      "source": [
        "def classwise_accuracy(prediction,actual):\n",
        "  correct_zero = 0\n",
        "  correct_one=0\n",
        "  total = len(prediction)\n",
        "\n",
        "  for pred, act in zip(prediction, actual):\n",
        "    if pred == act==0:\n",
        "      correct_zero += 1\n",
        "    if pred == act==1:\n",
        "      correct_one+=1\n",
        "\n",
        "  accuracy_zero = (correct_zero / total) * 100\n",
        "  accuracy_one= (correct_one / total) * 100\n",
        "  return accuracy_zero,accuracy_one\n",
        "\n",
        "acc_zero,acc_one = classwise_accuracy(predictions,y_test)\n",
        "acc1_zero,acc1_one=classwise_accuracy(predictions1,y_train)\n",
        "print(\"Classwise accuracy of training sample :\")\n",
        "print(\"For 'Not survived' :\",acc1_zero)\n",
        "print(\"For 'Survived' :\",acc1_one)\n",
        "print(\"Classwise accuracy of test sample :\")\n",
        "print(\"For 'Not survived' :\",acc_zero)\n",
        "print(\"For 'Survived' :\",acc_one)"
      ]
    },
    {
      "cell_type": "markdown",
      "metadata": {
        "id": "hnnqylv_o0be"
      },
      "source": [
        "## Task-7"
      ]
    },
    {
      "cell_type": "markdown",
      "metadata": {
        "id": "PkDEgOoeGpQf"
      },
      "source": [
        "**Printing confusion matrix**"
      ]
    },
    {
      "cell_type": "code",
      "execution_count": 49,
      "metadata": {
        "colab": {
          "base_uri": "https://localhost:8080/"
        },
        "id": "UAhEC7zdJwhe",
        "outputId": "2e744c18-eba1-4761-e92b-4895062b9801"
      },
      "outputs": [
        {
          "name": "stdout",
          "output_type": "stream",
          "text": [
            "Confusion Matrix:\n",
            "True Positives (TP): 19\n",
            "False Positives (FP): 10\n",
            "True Negatives (TN): 41\n",
            "False Negatives (FN): 19\n"
          ]
        }
      ],
      "source": [
        "#Function to make confusion matrix\n",
        "def confusion_matrix(predictions, actual):\n",
        "    TP = FP = TN = FN = 0\n",
        "    for pred, act in zip(predictions, actual):\n",
        "        if pred == 1 and act == 1:\n",
        "            TP += 1\n",
        "        elif pred == 1 and act == 0:\n",
        "            FP += 1\n",
        "        elif pred == 0 and act == 1:\n",
        "            FN += 1\n",
        "        elif pred == 0 and act == 0:\n",
        "            TN += 1\n",
        "\n",
        "    cm = {'True Positive (TP)': TP, 'False Positive (FP)': FP, 'True Negative (TN)': TN, 'False Negative (FN)': FN}\n",
        "    return cm\n",
        "\n",
        "#Function to print confusion matrix\n",
        "def print_matrix(cm):\n",
        "    print(\"Confusion Matrix:\")\n",
        "    print(f\"True Positives (TP): {cm['True Positive (TP)']}\")\n",
        "    print(f\"False Positives (FP): {cm['False Positive (FP)']}\")\n",
        "    print(f\"True Negatives (TN): {cm['True Negative (TN)']}\")\n",
        "    print(f\"False Negatives (FN): {cm['False Negative (FN)']}\")\n",
        "\n",
        "cm = confusion_matrix(predictions,y_test)\n",
        "print_matrix(cm)"
      ]
    },
    {
      "cell_type": "markdown",
      "metadata": {
        "id": "CJKvY0cko4tX"
      },
      "source": [
        "## Task-8"
      ]
    },
    {
      "cell_type": "markdown",
      "metadata": {
        "id": "Xx0GURWaGw5d"
      },
      "source": [
        "Calculating Precision , Recall and F1 score on test data"
      ]
    },
    {
      "cell_type": "code",
      "execution_count": 50,
      "metadata": {
        "colab": {
          "base_uri": "https://localhost:8080/"
        },
        "id": "EdgKDtDNJxBt",
        "outputId": "d3731ba1-2a38-439a-c562-2bf41f5b9ee1"
      },
      "outputs": [
        {
          "name": "stdout",
          "output_type": "stream",
          "text": [
            "Precision on test data : 0.6551724137931034\n",
            "Recall (Sensitivity) on test data : 0.5\n",
            "F1-score on test data : 0.5671641791044776\n"
          ]
        }
      ],
      "source": [
        "def precision(predictions, actual):\n",
        "  cm = confusion_matrix(predictions, actual)\n",
        "  precision = cm['True Positive (TP)'] / (cm['True Positive (TP)'] + cm['False Positive (FP)'])\n",
        "  return precision\n",
        "\n",
        "def recall(predictions, actual):\n",
        "  cm = confusion_matrix(predictions, actual)\n",
        "  recall = cm['True Positive (TP)'] / (cm['True Positive (TP)'] + cm['False Negative (FN)'])\n",
        "  return recall\n",
        "\n",
        "def f1(predictions, actual):\n",
        "  precision1=precision(predictions,actual)\n",
        "  recall1=recall(predictions,actual)\n",
        "  f1_score = 2 * (precision1 * recall1) / (precision1 + recall1)\n",
        "  return f1_score\n",
        "\n",
        "Precision=precision(predictions,y_test)\n",
        "Recall=recall(predictions,y_test)\n",
        "F1_score=f1(predictions,y_test)\n",
        "print(\"Precision on test data :\", Precision)\n",
        "print(\"Recall (Sensitivity) on test data :\", Recall)\n",
        "print(\"F1-score on test data :\", F1_score)"
      ]
    }
  ],
  "metadata": {
    "colab": {
      "collapsed_sections": [
        "qu3sbrNXIcsV",
        "uScX-Qy7on8r",
        "1TEYRzAzosL9",
        "9XoxzfcpdZ9J",
        "BKZzMvSOdpJp",
        "dE1mGvtfrb71"
      ],
      "provenance": [],
      "toc_visible": true
    },
    "kernelspec": {
      "display_name": "Python 3",
      "name": "python3"
    },
    "language_info": {
      "codemirror_mode": {
        "name": "ipython",
        "version": 3
      },
      "file_extension": ".py",
      "mimetype": "text/x-python",
      "name": "python",
      "nbconvert_exporter": "python",
      "pygments_lexer": "ipython3",
      "version": "3.11.3"
    }
  },
  "nbformat": 4,
  "nbformat_minor": 0
}
